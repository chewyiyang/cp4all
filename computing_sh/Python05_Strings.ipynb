{
  "nbformat": 4,
  "nbformat_minor": 0,
  "metadata": {
    "colab": {
      "name": "Python05 - Strings.ipynb",
      "provenance": []
    },
    "kernelspec": {
      "name": "python3",
      "display_name": "Python 3"
    }
  },
  "cells": [
    {
      "cell_type": "markdown",
      "metadata": {
        "id": "_sIeTutwNGJK"
      },
      "source": [
        "# **Strings**"
      ]
    },
    {
      "cell_type": "code",
      "metadata": {
        "id": "c0Laao7eMfF0",
        "outputId": "310b8edd-547a-40fe-e671-00afba7cbafa",
        "colab": {
          "base_uri": "https://localhost:8080/",
          "height": 34
        }
      },
      "source": [
        "# 3 ways to declare strings\n",
        "s1 = 'Tom' # single quote\n",
        "s2 = \"Tom's cat\" # double quote\n",
        "# triple quote\n",
        "'''\n",
        "This is a paragraph\n",
        "of text\n",
        "'''"
      ],
      "execution_count": null,
      "outputs": [
        {
          "output_type": "execute_result",
          "data": {
            "text/plain": [
              "'\\nThis is a paragraph\\nof text\\n'"
            ]
          },
          "metadata": {
            "tags": []
          },
          "execution_count": 5
        }
      ]
    },
    {
      "cell_type": "code",
      "metadata": {
        "id": "EcA9hvUeaEHb",
        "outputId": "547a9d73-cb26-44a2-fdb0-9749cf8a6526",
        "colab": {
          "base_uri": "https://localhost:8080/",
          "height": 34
        }
      },
      "source": [
        "# string operation - length to measure the length of a chosen or selected phrase\n",
        "len(s2)"
      ],
      "execution_count": null,
      "outputs": [
        {
          "output_type": "execute_result",
          "data": {
            "text/plain": [
              "9"
            ]
          },
          "metadata": {
            "tags": []
          },
          "execution_count": 7
        }
      ]
    },
    {
      "cell_type": "code",
      "metadata": {
        "id": "iTVUAG1xbh6v",
        "outputId": "bdaf9623-9c16-4a9a-b47d-295cc279856c",
        "colab": {
          "base_uri": "https://localhost:8080/",
          "height": 34
        }
      },
      "source": [
        "# string operation - ord\n",
        "ord('A')"
      ],
      "execution_count": null,
      "outputs": [
        {
          "output_type": "execute_result",
          "data": {
            "text/plain": [
              "65"
            ]
          },
          "metadata": {
            "tags": []
          },
          "execution_count": 9
        }
      ]
    },
    {
      "cell_type": "code",
      "metadata": {
        "id": "lAiFKixsbrGe",
        "outputId": "5dc81560-6cf5-43e5-f4ac-a2a65cce3f23",
        "colab": {
          "base_uri": "https://localhost:8080/",
          "height": 34
        }
      },
      "source": [
        "# string operation - chr\n",
        "chr(65)"
      ],
      "execution_count": null,
      "outputs": [
        {
          "output_type": "execute_result",
          "data": {
            "text/plain": [
              "'A'"
            ]
          },
          "metadata": {
            "tags": []
          },
          "execution_count": 10
        }
      ]
    },
    {
      "cell_type": "code",
      "metadata": {
        "id": "NNwtPfDobws3",
        "outputId": "5adb9030-b2ff-438c-a20d-de279cd55705",
        "colab": {
          "base_uri": "https://localhost:8080/",
          "height": 34
        }
      },
      "source": [
        "# string operation - str\n",
        "str(123)"
      ],
      "execution_count": null,
      "outputs": [
        {
          "output_type": "execute_result",
          "data": {
            "text/plain": [
              "'123'"
            ]
          },
          "metadata": {
            "tags": []
          },
          "execution_count": 11
        }
      ]
    },
    {
      "cell_type": "code",
      "metadata": {
        "id": "OeQ7k5ZHZhZv",
        "outputId": "bb911534-0dc4-4ece-df51-4ac8bd294f9d",
        "colab": {
          "base_uri": "https://localhost:8080/",
          "height": 34
        }
      },
      "source": [
        "# accessing individual characters\n",
        "s1 = 'Spiderman'\n",
        "s1[0] # first\n",
        "s1[1] # second\n",
        "s1[len(s1)-1] # last\n",
        "s1[-1] # last\n",
        "\n"
      ],
      "execution_count": null,
      "outputs": [
        {
          "output_type": "execute_result",
          "data": {
            "text/plain": [
              "'n'"
            ]
          },
          "metadata": {
            "tags": []
          },
          "execution_count": 18
        }
      ]
    },
    {
      "cell_type": "code",
      "metadata": {
        "id": "Aq2iiGW0azMO",
        "outputId": "86ab63eb-4b4d-47ca-f176-1e26e43fcc77",
        "colab": {
          "base_uri": "https://localhost:8080/",
          "height": 68
        }
      },
      "source": [
        "# for in\n",
        "# for i in range(n):\n",
        "for char in s1:\n",
        "  print(char) "
      ],
      "execution_count": null,
      "outputs": [
        {
          "output_type": "stream",
          "text": [
            "T\n",
            "o\n",
            "m\n"
          ],
          "name": "stdout"
        }
      ]
    },
    {
      "cell_type": "code",
      "metadata": {
        "id": "jtSOADYEZ4qZ",
        "outputId": "762379c9-dcdc-468d-8c77-00fb10e1c12d",
        "colab": {
          "base_uri": "https://localhost:8080/",
          "height": 181
        }
      },
      "source": [
        "# strings are immutable!\n",
        "s1 = 'Tom'\n",
        "s1[0] = 'M'"
      ],
      "execution_count": null,
      "outputs": [
        {
          "output_type": "error",
          "ename": "TypeError",
          "evalue": "ignored",
          "traceback": [
            "\u001b[0;31m---------------------------------------------------------------------------\u001b[0m",
            "\u001b[0;31mTypeError\u001b[0m                                 Traceback (most recent call last)",
            "\u001b[0;32m<ipython-input-19-3c230cd78202>\u001b[0m in \u001b[0;36m<module>\u001b[0;34m()\u001b[0m\n\u001b[1;32m      1\u001b[0m \u001b[0ms1\u001b[0m \u001b[0;34m=\u001b[0m \u001b[0;34m'Tom'\u001b[0m\u001b[0;34m\u001b[0m\u001b[0;34m\u001b[0m\u001b[0m\n\u001b[0;32m----> 2\u001b[0;31m \u001b[0ms1\u001b[0m\u001b[0;34m[\u001b[0m\u001b[0;36m0\u001b[0m\u001b[0;34m]\u001b[0m \u001b[0;34m=\u001b[0m \u001b[0;34m'M'\u001b[0m\u001b[0;34m\u001b[0m\u001b[0;34m\u001b[0m\u001b[0m\n\u001b[0m",
            "\u001b[0;31mTypeError\u001b[0m: 'str' object does not support item assignment"
          ]
        }
      ]
    },
    {
      "cell_type": "code",
      "metadata": {
        "id": "epoj8FTtaf6z",
        "outputId": "32291bf9-6a30-4dfe-d941-34b6a940ad9b",
        "colab": {
          "base_uri": "https://localhost:8080/",
          "height": 34
        }
      },
      "source": [
        "# string operation - slicing / substring\n",
        "s = \"Spiderman\"\n",
        "s[0:6]\n",
        "s[:6]\n",
        "s[6:len(s)]\n",
        "s[6:]"
      ],
      "execution_count": null,
      "outputs": [
        {
          "output_type": "execute_result",
          "data": {
            "text/plain": [
              "'man'"
            ]
          },
          "metadata": {
            "tags": []
          },
          "execution_count": 23
        }
      ]
    },
    {
      "cell_type": "code",
      "metadata": {
        "id": "iUrkzp9wZqiy",
        "outputId": "8eaa3597-a207-4f42-d671-fef4a3e9c697",
        "colab": {
          "base_uri": "https://localhost:8080/",
          "height": 34
        }
      },
      "source": [
        "# string operation - concatenate\n",
        "s1 = \"Bat\"\n",
        "s2 = \"man\"\n",
        "s1 + s2"
      ],
      "execution_count": null,
      "outputs": [
        {
          "output_type": "execute_result",
          "data": {
            "text/plain": [
              "'Batman'"
            ]
          },
          "metadata": {
            "tags": []
          },
          "execution_count": 24
        }
      ]
    },
    {
      "cell_type": "code",
      "metadata": {
        "id": "DJzOiEtYZuOB",
        "outputId": "fc087e50-2069-4923-898f-a85032555fae",
        "colab": {
          "base_uri": "https://localhost:8080/",
          "height": 54
        }
      },
      "source": [
        "# string operation - duplicate\n",
        "s = 'HA'\n",
        "s * 100"
      ],
      "execution_count": null,
      "outputs": [
        {
          "output_type": "execute_result",
          "data": {
            "text/plain": [
              "'HAHAHAHAHAHAHAHAHAHAHAHAHAHAHAHAHAHAHAHAHAHAHAHAHAHAHAHAHAHAHAHAHAHAHAHAHAHAHAHAHAHAHAHAHAHAHAHAHAHAHAHAHAHAHAHAHAHAHAHAHAHAHAHAHAHAHAHAHAHAHAHAHAHAHAHAHAHAHAHAHAHAHAHAHAHAHAHAHAHAHAHAHAHAHAHAHAHAHAHA'"
            ]
          },
          "metadata": {
            "tags": []
          },
          "execution_count": 28
        }
      ]
    },
    {
      "cell_type": "code",
      "metadata": {
        "id": "8Nbhi3FgaHCK",
        "outputId": "c407e24e-8a0f-4904-fc51-871dee703cfc",
        "colab": {
          "base_uri": "https://localhost:8080/",
          "height": 34
        }
      },
      "source": [
        "# string operation - case\n",
        "s = 'Tom'\n",
        "s.upper() # upper\n",
        "s.lower() # lower"
      ],
      "execution_count": null,
      "outputs": [
        {
          "output_type": "execute_result",
          "data": {
            "text/plain": [
              "'tom'"
            ]
          },
          "metadata": {
            "tags": []
          },
          "execution_count": 30
        }
      ]
    },
    {
      "cell_type": "code",
      "metadata": {
        "id": "uSSHC-4saPIb",
        "outputId": "82e8c063-f5f2-4618-99b4-6278a9a47b68",
        "colab": {
          "base_uri": "https://localhost:8080/",
          "height": 34
        }
      },
      "source": [
        "# string operation - check numeric\n",
        "s = '12345'\n",
        "s.isdigit()"
      ],
      "execution_count": null,
      "outputs": [
        {
          "output_type": "execute_result",
          "data": {
            "text/plain": [
              "True"
            ]
          },
          "metadata": {
            "tags": []
          },
          "execution_count": 32
        }
      ]
    },
    {
      "cell_type": "code",
      "metadata": {
        "id": "eXEFpvDetKzH",
        "outputId": "ccd16c21-c69e-41b3-9e35-5a1c96c5e729",
        "colab": {
          "base_uri": "https://localhost:8080/",
          "height": 34
        }
      },
      "source": [
        "# string operation - check alphabetic\n",
        "s = 'Tom'\n",
        "s.isalpha()"
      ],
      "execution_count": null,
      "outputs": [
        {
          "output_type": "execute_result",
          "data": {
            "text/plain": [
              "True"
            ]
          },
          "metadata": {
            "tags": []
          },
          "execution_count": 33
        }
      ]
    },
    {
      "cell_type": "code",
      "metadata": {
        "id": "lxGeAHKKaS0a",
        "outputId": "58e7265e-59aa-4f14-99ad-ba034d8a27f2",
        "colab": {
          "base_uri": "https://localhost:8080/",
          "height": 34
        }
      },
      "source": [
        "# string operation - check alphanumeric\n",
        "s = 'Tom123'\n",
        "s.isalnum()"
      ],
      "execution_count": null,
      "outputs": [
        {
          "output_type": "execute_result",
          "data": {
            "text/plain": [
              "True"
            ]
          },
          "metadata": {
            "tags": []
          },
          "execution_count": 34
        }
      ]
    },
    {
      "cell_type": "code",
      "metadata": {
        "id": "seL7bUFctZxH",
        "outputId": "723e8a77-cd69-4d56-fd29-5ab46f43f5e0",
        "colab": {
          "base_uri": "https://localhost:8080/",
          "height": 34
        }
      },
      "source": [
        "# write program to validate nric\n",
        "# T0312345A\n",
        "nric = 'T0312345A'\n",
        "valid_nric = False\n",
        "if nric[0] == 'T':\n",
        "  valid_nric = True\n",
        "if nric[1:-1].isdigit():\n",
        "  valid_nric = True\n",
        "if nric[-1].isalpha():\n",
        "  valid_nric = True\n",
        "if nric[1:3] == '03':\n",
        "  print(\"Born in 2003\")"
      ],
      "execution_count": null,
      "outputs": [
        {
          "output_type": "stream",
          "text": [
            "Born in 2003\n"
          ],
          "name": "stdout"
        }
      ]
    },
    {
      "cell_type": "code",
      "metadata": {
        "id": "mUMhd32EbLWp",
        "outputId": "2e9fc9fa-28f2-43e2-d8b0-523903ff2a18",
        "colab": {
          "base_uri": "https://localhost:8080/",
          "height": 34
        }
      },
      "source": [
        "# string operation - reverse\n",
        "s = 'Batman'\n",
        "s[::-1]"
      ],
      "execution_count": null,
      "outputs": [
        {
          "output_type": "execute_result",
          "data": {
            "text/plain": [
              "'namtaB'"
            ]
          },
          "metadata": {
            "tags": []
          },
          "execution_count": 39
        }
      ]
    },
    {
      "cell_type": "code",
      "metadata": {
        "id": "mWEuim0YcHIy",
        "outputId": "2331f07b-3028-4f5f-f094-55137ed51400",
        "colab": {
          "base_uri": "https://localhost:8080/",
          "height": 68
        }
      },
      "source": [
        "# string formatting\n",
        "# format method\n",
        "from math import pi\n",
        "num = 12345\n",
        "print(\"{:.2f} {}\".format(pi, num))\n",
        "print(\"{0:.2f} {1}\".format(pi, num))\n",
        "\n",
        "# f-string (new from Python 3.6)\n",
        "print(f\"{pi:.2f} {num}\")"
      ],
      "execution_count": null,
      "outputs": [
        {
          "output_type": "stream",
          "text": [
            "3.14 12345\n",
            "3.14 12345\n",
            "3.14 12345\n"
          ],
          "name": "stdout"
        }
      ]
    },
    {
      "cell_type": "markdown",
      "metadata": {
        "id": "TgbEMstMxCHY"
      },
      "source": [
        "# **Lists / Arrays**"
      ]
    },
    {
      "cell_type": "code",
      "metadata": {
        "id": "OgPVcGHKvcTO",
        "outputId": "b58eef75-6484-4332-e72a-0344a2441428",
        "colab": {
          "base_uri": "https://localhost:8080/",
          "height": 51
        }
      },
      "source": [
        "str1 = 'Tom' # immutable\n",
        "list1 = ['T', 'o', 'm'] # mutable\n",
        "print(len(str1))\n",
        "print(len(list1))"
      ],
      "execution_count": null,
      "outputs": [
        {
          "output_type": "stream",
          "text": [
            "3\n",
            "3\n"
          ],
          "name": "stdout"
        }
      ]
    },
    {
      "cell_type": "code",
      "metadata": {
        "id": "UaACnox-xfVh",
        "outputId": "e8733ac9-6f7d-464a-d57d-849fb0cd1db2",
        "colab": {
          "base_uri": "https://localhost:8080/",
          "height": 34
        }
      },
      "source": [
        "list1[0] = 'M'\n",
        "list1"
      ],
      "execution_count": null,
      "outputs": [
        {
          "output_type": "execute_result",
          "data": {
            "text/plain": [
              "['M', 'o', 'm']"
            ]
          },
          "metadata": {
            "tags": []
          },
          "execution_count": 52
        }
      ]
    },
    {
      "cell_type": "code",
      "metadata": {
        "id": "4oEs6a8fxrNj",
        "outputId": "a445ce15-ecb2-47f1-e1be-3522942c13f3",
        "colab": {
          "base_uri": "https://localhost:8080/",
          "height": 85
        }
      },
      "source": [
        "print(str1[0])\n",
        "print(list1[0])\n",
        "print(str1[-1])\n",
        "print(list1[-1])"
      ],
      "execution_count": null,
      "outputs": [
        {
          "output_type": "stream",
          "text": [
            "T\n",
            "M\n",
            "m\n",
            "m\n"
          ],
          "name": "stdout"
        }
      ]
    },
    {
      "cell_type": "code",
      "metadata": {
        "id": "pyu0Wm08x7rW",
        "outputId": "31b73ad0-711d-437c-e5e6-e3e5d77e1c37",
        "colab": {
          "base_uri": "https://localhost:8080/",
          "height": 68
        }
      },
      "source": [
        "for char in list1:\n",
        "  print(char)"
      ],
      "execution_count": null,
      "outputs": [
        {
          "output_type": "stream",
          "text": [
            "M\n",
            "o\n",
            "m\n"
          ],
          "name": "stdout"
        }
      ]
    },
    {
      "cell_type": "code",
      "metadata": {
        "id": "cFPui8iHyDYJ",
        "outputId": "eab18f21-ccab-4ea4-cd4d-29105bebb056",
        "colab": {
          "base_uri": "https://localhost:8080/",
          "height": 34
        }
      },
      "source": [
        "list1 = []\n",
        "list1\n",
        "len(list1)\n",
        "list1.append('B')\n",
        "list1\n",
        "list1.append('a')\n",
        "list1\n",
        "list1.append(pi)\n",
        "list1"
      ],
      "execution_count": null,
      "outputs": [
        {
          "output_type": "execute_result",
          "data": {
            "text/plain": [
              "['B', 'a', 3.141592653589793]"
            ]
          },
          "metadata": {
            "tags": []
          },
          "execution_count": 61
        }
      ]
    },
    {
      "cell_type": "code",
      "metadata": {
        "id": "B59CDddPyKu6",
        "outputId": "305937a5-7ec1-4349-ce95-4695ba1e0794",
        "colab": {
          "base_uri": "https://localhost:8080/",
          "height": 34
        }
      },
      "source": [
        "list1.insert(3, 'Yo')\n",
        "list1"
      ],
      "execution_count": null,
      "outputs": [
        {
          "output_type": "execute_result",
          "data": {
            "text/plain": [
              "[35, 35, 'B', 'Yo', 'a', 3.141592653589793]"
            ]
          },
          "metadata": {
            "tags": []
          },
          "execution_count": 64
        }
      ]
    },
    {
      "cell_type": "code",
      "metadata": {
        "id": "bVMwgFDMytfX"
      },
      "source": [
        ""
      ],
      "execution_count": null,
      "outputs": []
    }
  ]
}
